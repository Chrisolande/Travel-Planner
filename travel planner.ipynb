{
 "cells": [
  {
   "cell_type": "markdown",
   "metadata": {
    "cellUniqueIdByVincent": "cb0ee"
   },
   "source": [
    "# 1. Imports & Environment Setup\n",
    "\n",
    "- **Core Imports:**\n",
    "  - `os`, `warnings`, `datetime`, `uuid`, `string`, `random`, `hashlib`, `traceback`.\n",
    "\n",
    "- **LangChain/LangGraph Imports:**\n",
    "  - `ChatOpenAI`, `StreamingStdOutCallbackHandler`, `TavilySearch`, `TavilySearchResults`, agent/graph/integration tools, message types.\n",
    "\n",
    "- **Notebook & Display:**\n",
    "  - `clear_output`, `Markdown` from `IPython.display`.\n",
    "\n",
    "- **Environment:**\n",
    "  - Suppresses TensorFlow warnings.\n",
    "  - Loads environment variables (e.g., API keys) using `python-dotenv`.\n"
   ]
  },
  {
   "cell_type": "code",
   "execution_count": 1,
   "metadata": {
    "cellUniqueIdByVincent": "d3c1b"
   },
   "outputs": [],
   "source": [
    "import os\n",
    "import warnings\n",
    "from dotenv import load_dotenv\n",
    "from langchain_openai import ChatOpenAI\n",
    "from langchain.callbacks.streaming_stdout import StreamingStdOutCallbackHandler\n",
    "from langchain_tavily import TavilySearch\n",
    "from langchain_community.tools import TavilySearchResults\n",
    "from langchain.agents import create_tool_calling_agent, AgentExecutor\n",
    "from typing import TypedDict, Dict, List\n",
    "from langchain_core.messages import SystemMessage, AIMessage, HumanMessage\n",
    "from datetime import datetime\n",
    "from IPython.display import clear_output, Markdown\n",
    "import traceback\n",
    "import uuid\n",
    "import string\n",
    "import random\n",
    "import hashlib"
   ]
  },
  {
   "cell_type": "code",
   "execution_count": 2,
   "id": "ca198beb",
   "metadata": {
    "cellUniqueIdByVincent": "6db79"
   },
   "outputs": [
    {
     "name": "stderr",
     "output_type": "stream",
     "text": [
      "python-dotenv could not parse statement starting at line 12\n"
     ]
    }
   ],
   "source": [
    "\n",
    "# Suppress TensorFlow warnings\n",
    "os.environ[\"TF_CPP_MIN_LOG_LEVEL\"] = \"3\"\n",
    "os.environ[\"CUDA_VISIBLE_DEVICES\"] = \"0\"\n",
    "warnings.filterwarnings(\"ignore\")\n",
    "\n",
    "# Load environment variables\n",
    "load_dotenv()\n",
    "\n",
    "def get_api_key(key_name=\"OPENROUTER_API_KEY\"):\n",
    "    \"\"\"\n",
    "    Get API key from environment variables\n",
    "    \"\"\"\n",
    "    api_key = os.getenv(key_name)\n",
    "    if not api_key:\n",
    "        raise ValueError(f\"Invalid API key: {key_name} not found in environment variables\")\n",
    "    return api_key\n",
    "\n",
    "def initialize_llm(model_name=\"meta-llama/llama-3.1-8b-instruct\",\n",
    "                  temperature=0.4,\n",
    "                  use_streaming=True):\n",
    "    \"\"\"\n",
    "    Initialize LLM\n",
    "    \"\"\"\n",
    "    api_key = get_api_key()\n",
    "    callbacks = [StreamingStdOutCallbackHandler()]\n",
    "    llm = ChatOpenAI(\n",
    "        model_name=model_name,\n",
    "        temperature=temperature,\n",
    "        streaming=use_streaming,\n",
    "        callbacks=callbacks,\n",
    "        openai_api_key=api_key,\n",
    "        openai_api_base=\"https://openrouter.ai/api/v1\"\n",
    "    )\n",
    "    return llm\n",
    "\n",
    "llm = initialize_llm()"
   ]
  },
  {
   "cell_type": "code",
   "execution_count": 3,
   "metadata": {
    "cellUniqueIdByVincent": "2bfe9"
   },
   "outputs": [],
   "source": [
    "def save_file(data, filename, uniqueness_method=\"uuid\"):\n",
    "\n",
    "    folder_name = \"Travel Plans\"  # Folder to store output files\n",
    "    os.makedirs(folder_name, exist_ok=True)  # Creates the folder if it doesn't exist\n",
    "    \n",
    "    # Generate unique identifier based on selected method\n",
    "    if uniqueness_method == \"uuid\":\n",
    "        # Generate a UUID (universally unique identifier)\n",
    "        unique_id = str(uuid.uuid4())[:8]\n",
    "        \n",
    "    elif uniqueness_method == \"random_string\":\n",
    "        # Generate a random string of letters and digits\n",
    "        chars = string.ascii_letters + string.digits\n",
    "        unique_id = ''.join(random.choice(chars) for _ in range(8))\n",
    "        \n",
    "    elif uniqueness_method == \"hash\":\n",
    "        # Create a hash based on content and current time\n",
    "        content_hash = hashlib.md5((data + str(datetime.now())).encode()).hexdigest()[:8]\n",
    "        unique_id = content_hash\n",
    "        \n",
    "    elif uniqueness_method == \"counter\":\n",
    "        # Use an incrementing counter for files with the same base name\n",
    "        counter = 1\n",
    "        while True:\n",
    "            test_filename = f\"{filename}_{counter}.md\"\n",
    "            test_path = os.path.join(folder_name, test_filename)\n",
    "            if not os.path.exists(test_path):\n",
    "                unique_id = str(counter)\n",
    "                break\n",
    "            counter += 1\n",
    "            \n",
    "    elif uniqueness_method == \"datetime\":\n",
    "        # Original datetime method\n",
    "        unique_id = datetime.now().strftime(\"%Y%m%d%H%M%S\")\n",
    "        \n",
    "    else:\n",
    "        # Default to UUID if an invalid method is specified\n",
    "        unique_id = str(uuid.uuid4())[:8]\n",
    "    \n",
    "    # Create the final filename with the unique identifier\n",
    "    final_filename = f\"{filename}_{unique_id}.md\"\n",
    "    file_path = os.path.join(folder_name, final_filename)\n",
    "    \n",
    "    # Save the data to the file in the specified path\n",
    "    with open(file_path, \"w\", encoding=\"utf-8\") as file:\n",
    "        file.write(data)\n",
    "        print(f\"File '{file_path}' created successfully.\")\n",
    "    \n",
    "    # Return the full path of the saved file\n",
    "    return file_path\n",
    "\n",
    "def show_md_file(file_path):\n",
    "    with open(file_path, \"r\", encoding = \"utf-8\") as file:\n",
    "        content = file.read()\n",
    "\n",
    "    display(Markdown(content))"
   ]
  },
  {
   "cell_type": "code",
   "execution_count": null,
   "metadata": {
    "cellUniqueIdByVincent": "a8cb3"
   },
   "outputs": [],
   "source": []
  }
 ],
 "metadata": {
  "kernelspec": {
   "display_name": ".venv",
   "language": "python",
   "name": "python3"
  },
  "language_info": {
   "codemirror_mode": {
    "name": "ipython",
    "version": 3
   },
   "file_extension": ".py",
   "mimetype": "text/x-python",
   "name": "python",
   "nbconvert_exporter": "python",
   "pygments_lexer": "ipython3",
   "version": "3.12.3"
  },
  "vincent": {
   "sessionId": "583bcb7e51bde3e5ae191216_2025-05-16T12-32-59-715Z"
  }
 },
 "nbformat": 4,
 "nbformat_minor": 5
}
